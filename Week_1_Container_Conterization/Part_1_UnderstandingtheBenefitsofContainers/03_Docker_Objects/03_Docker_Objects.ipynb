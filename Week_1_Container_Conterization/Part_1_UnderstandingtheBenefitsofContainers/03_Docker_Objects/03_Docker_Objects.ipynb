{
 "cells": [
  {
   "cell_type": "markdown",
   "source": [
    "# Docker Object\n",
    "## Objectives\n",
    "\n",
    "1. Identify and describe Docker objects,\n",
    "2. Identify essential Dockerfile commands,\n",
    "3. Explain container image naming format, and\n",
    "4. Describe how Docker uses networks, storage, and plugins\n",
    "\n",
    "<img src=\"img.png\">"
   ],
   "metadata": {
    "collapsed": false,
    "pycharm": {
     "name": "#%% md\n"
    }
   }
  },
  {
   "cell_type": "markdown",
   "source": [
    "## Docker Objects\n",
    "\n",
    "<img src=\"img_1.png\">\n",
    "\n",
    "Docker contains objects such as :\n",
    "1. the Dockerfile,\n",
    "2. images,\n",
    "3. container,\n",
    "4. network,\n",
    "5. storage volumes, and\n",
    "6. other objects, such as plugins and add-ons."
   ],
   "metadata": {
    "collapsed": false,
    "pycharm": {
     "name": "#%% md\n"
    }
   }
  },
  {
   "cell_type": "markdown",
   "source": [
    "## Docker Files\n",
    "\n",
    "<img src=\"img_2.png\">\n",
    "\n",
    " A Dockerfile is a text file that contains **instructions needed to create an image.**\n",
    "\n",
    "You can create a Dockerfile using any editor from the console or terminal.\n",
    "\n",
    "Let’s go over several of the essential instructions that Docker provides.\n",
    "\n",
    "A Dockerfile must always:\n",
    " 1. begin with a FROM instruction that **defines a base image**. Often the base image is from a public repository, like an operating system or a specific language like Go or Node.js.\n",
    " 2. The RUN instruction **executes commands**.\n",
    " 3. The CMD instruction **defines a default command for execution**. A Dockerfile should have **only one CMD instruction**. If the Dockerfile has several CMD instructions, **only the last CMD instruction will take effect**."
   ],
   "metadata": {
    "collapsed": false,
    "pycharm": {
     "name": "#%% md\n"
    }
   }
  },
  {
   "cell_type": "markdown",
   "source": [
    "## Docker Images\n",
    "\n",
    "<img src=\"img_3.png\">\n",
    "\n",
    "1. A Docker Image is a read-only template with instructions for creating a Docker container.\n",
    "2. The Dockerfile provides instructions to build the image.\n",
    "3. Each Docker instruction creates a new layer in the image. When you change the Dockerfile and rebuild the image, the Docker engine only rebuilds the changed layers.\n",
    "4. Images can share these layers, which saves a lot of disk space as well as network bandwidth when sending and receiving images. When you instantiate this image, you get a running container. At this point, a writeable container layer is placed on top of the read-only layers. The writeable layer is needed because containers are not immutable as images."
   ],
   "metadata": {
    "collapsed": false,
    "pycharm": {
     "name": "#%% md\n"
    }
   }
  },
  {
   "cell_type": "markdown",
   "source": [
    "## Container Image Naming\n",
    "\n",
    "<img src=\"img_4.png\">\n",
    "\n",
    "An image name has a unique format that consists of three parts:\n",
    "1. the hostname,\n",
    "2. the repository, and\n",
    "3. the tag.\n",
    "\n",
    "* **The hostname**:  identifies the image registry.\n",
    "* **A repository** is a group of related container images.\n",
    "* **The tag** provides information about a specific version or variant of an image.\n",
    "\n",
    "\n",
    "<img src=\"img_5.png\">\n",
    "\n",
    "\n",
    "Consider the image name docker.io/ubuntu:18.04.\n",
    "1. The hostname docker.io refers to the *Docker Hub registry*. When using the Docker CLI, you can exclude the docker.io hostname.\n",
    "2. The repository name ubuntu indicates an Ubuntu image. Finally,\n",
    "3. The tag, shown here as 18.04, represents the installed Ubuntu version.\n",
    "\n"
   ],
   "metadata": {
    "collapsed": false,
    "pycharm": {
     "name": "#%% md\n"
    }
   }
  },
  {
   "cell_type": "markdown",
   "source": [
    "## Docker Container\n",
    "\n",
    "<img src=\"img_6.png\">\n",
    "\n",
    "What is a Docker container? A Docker container is a runnable instance of an image.\n",
    "\n",
    "You can use the Docker API or CLI to\n",
    "1. create, start, stop, or delete an image.\n",
    "\n",
    "2. You can connect to multiple networks,\n",
    "3. attach storage to the container, or\n",
    "4. create a new image based on its current state.\n",
    "5. Docker keeps containers well isolated from each other and their host machine.\n",
    "\n",
    "\n",
    "## Docker networks, storage & plugins\n",
    "\n",
    "<img src=\"img_7.png\">\n",
    "\n",
    "1. When using Docker, networks help isolate container communications. By default, data doesn’t persist when the container no longer exists.\n",
    "2. Docker uses volumes and bind mounts to persist data even after a container stops.\n",
    "3. Plugins, such as storage plugins, provide the ability to connect to external storage platforms."
   ],
   "metadata": {
    "collapsed": false,
    "pycharm": {
     "name": "#%% md\n"
    }
   }
  },
  {
   "cell_type": "markdown",
   "source": [
    "## Summary\n",
    "\n",
    "1. Docker contains objects such as the Dockerfiles, images, containers, networks, storage volumes, and other objects, such as plugins and add-ons.\n",
    "2. Essential Docker instructions include FROM, RUN, and CMD.\n",
    "3. A docker container is a runnable instance of an image.\n",
    "4. An image name format consists of three identifiers: the hostname, the repository, and the tag.\n",
    "5. Docker uses networks to isolate container communications.\n",
    "6. Docker uses volumes and binds mounts to persist data even after a container stops running. And,\n",
    "7. Plugins, such as storage plugins, provide the ability to connect to external storage platforms."
   ],
   "metadata": {
    "collapsed": false,
    "pycharm": {
     "name": "#%% md\n"
    }
   }
  },
  {
   "cell_type": "code",
   "execution_count": null,
   "outputs": [],
   "source": [],
   "metadata": {
    "collapsed": false,
    "pycharm": {
     "name": "#%%\n"
    }
   }
  }
 ],
 "metadata": {
  "kernelspec": {
   "display_name": "Python 3",
   "language": "python",
   "name": "python3"
  },
  "language_info": {
   "codemirror_mode": {
    "name": "ipython",
    "version": 2
   },
   "file_extension": ".py",
   "mimetype": "text/x-python",
   "name": "python",
   "nbconvert_exporter": "python",
   "pygments_lexer": "ipython2",
   "version": "2.7.6"
  }
 },
 "nbformat": 4,
 "nbformat_minor": 0
}