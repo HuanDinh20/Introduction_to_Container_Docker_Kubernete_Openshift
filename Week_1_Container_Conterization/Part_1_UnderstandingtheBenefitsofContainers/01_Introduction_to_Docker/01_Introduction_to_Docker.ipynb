{
 "cells": [
  {
   "cell_type": "markdown",
   "source": [
    "# Objective\n",
    "1. Define what Docker is,\n",
    "2. Describe the Docker process and underlying technology,\n",
    "3. List the benefits of Docker containers, and\n",
    "4. Identify the challenges of Docker containers.\n",
    "\n",
    "<img src=\"img.png\">"
   ],
   "metadata": {
    "collapsed": false,
    "pycharm": {
     "name": "#%% md\n"
    }
   }
  },
  {
   "cell_type": "markdown",
   "source": [
    "## Docker Define\n",
    "Docker is an open platform for developing, shipping, and running applications as containers.\n",
    "\n",
    "\n",
    "<img src=\"img_1.png\">\n",
    "\n",
    "## Docker becomes popular\n",
    "<img src=\"img_2.png\">\n",
    "\n",
    "\n",
    "\n",
    "Docker became popular with developers because of its\n",
    "1. simple architecture,\n",
    "2. massive scalability, and\n",
    "3. portability on multiple platforms, environments, and locations.\n",
    "\n",
    "## Docker process\n",
    "\n",
    "<img src=\"img_3.png\">\n",
    "\n",
    "Docker isolates applications from\n",
    "1. infrastructure, including the hardware, the operating system, and the container runtime.\n",
    "\n",
    "\n",
    "## Docker underlying technology\n",
    "\n",
    "<img src=\"img_4.png\">\n",
    "\n",
    "\n",
    "1. Docker is written in the Go programming language Docker\n",
    "2. Uses Linux kernel features to deliver its functionality.\n",
    "3. Docker also uses namespaces to provide an isolated workspace called the container. And\n",
    "4. Docker creates a set of namespaces for every container and each aspect runs in a separate namespace with access limited to that namespace.\n",
    "\n",
    "## Docker add-ons\n",
    "add-ons : tien ich bo sung\n",
    "\n",
    "<img src=\"img_5.png\">\n",
    "\n",
    "\n",
    "Docker methodology has inspired additional innovations, including:\n",
    "1. Complementary tools such as Docker CLI, Docker Compose, and Prometheus, and2. various plugins, including storage plugins;\n",
    "3. orchestration technologies using Docker Swarm or Kubernetes; and\n",
    "4. development methodologies using microservices and serverless."
   ],
   "metadata": {
    "collapsed": false,
    "pycharm": {
     "name": "#%% md\n"
    }
   }
  },
  {
   "cell_type": "markdown",
   "source": [
    "## Docker Benefits\n",
    "\n",
    "<img src=\"img_6.png\">\n",
    "\n",
    "\n",
    "benefits:\n",
    "1. Docker’s consistent and isolated environments result in stable application deployments.\n",
    "2. Deployments occur in seconds. Because Docker images are small and reusable, they significantly speed up the development process. And,\n",
    "3. Docker automation capabilities help eliminate errors, simplifying the maintenance cycle.\n",
    "4. Docker supports Agile and CI/CD DevOps practices. Docker’s easy versioning speeds up testing, rollbacks, and redeployments. Docker helps segment applications for easy refresh, cleanup, and repair. Developers collaborate to resolve issues faster and scale containers when needed. And,\n",
    "5. Docker images are platform-independent, so they are highly portable.\n",
    "\n",
    "## Challenging use cases\n",
    "\n",
    "<img src=\"img_7.png\">\n",
    "\n",
    "\n",
    "Docker is not a good fit for applications with these qualities:\n",
    "1. Require high performance or security,\n",
    "2. are based on Monolith architecture,\n",
    "3. use rich GUI features, or\n",
    "4. perform standard desktop or\n",
    "5. limited functions.\n",
    "\n",
    "# Summary\n",
    "\n",
    "<img src=\"img_8.png\">\n",
    "\n",
    "1. Docker is an open platform for developing, shipping, and running applications as containers.\n",
    "2. Docker speeds up the deployment process across multiple environments.\n",
    "3. Docker uses namespaces technology to provide an isolated workspace called the “container.”\n",
    "4. Docker creates a set of namespaces for every container and each aspect runs in a separate namespace with access limited to that namespace.\n",
    "5. Docker supports Agile and CI/CD DevOps practices, and lastly,\n",
    "6. Docker containers are not a good fit for applications based on monolithic architecture or applications that require high performance or security."
   ],
   "metadata": {
    "collapsed": false,
    "pycharm": {
     "name": "#%% md\n"
    }
   }
  },
  {
   "cell_type": "code",
   "execution_count": null,
   "outputs": [],
   "source": [],
   "metadata": {
    "collapsed": false,
    "pycharm": {
     "name": "#%%\n"
    }
   }
  }
 ],
 "metadata": {
  "kernelspec": {
   "display_name": "Python 3",
   "language": "python",
   "name": "python3"
  },
  "language_info": {
   "codemirror_mode": {
    "name": "ipython",
    "version": 2
   },
   "file_extension": ".py",
   "mimetype": "text/x-python",
   "name": "python",
   "nbconvert_exporter": "python",
   "pygments_lexer": "ipython2",
   "version": "2.7.6"
  }
 },
 "nbformat": 4,
 "nbformat_minor": 0
}