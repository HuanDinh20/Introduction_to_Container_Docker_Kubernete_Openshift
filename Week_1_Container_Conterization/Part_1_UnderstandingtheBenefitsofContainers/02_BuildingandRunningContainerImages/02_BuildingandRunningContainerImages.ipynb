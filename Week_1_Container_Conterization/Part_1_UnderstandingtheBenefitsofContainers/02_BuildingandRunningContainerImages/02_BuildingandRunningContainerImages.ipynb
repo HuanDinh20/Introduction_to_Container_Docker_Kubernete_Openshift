{
 "cells": [
  {
   "cell_type": "markdown",
   "source": [
    "# Building and Running Container Images\n",
    "## Objectives\n",
    "\n",
    "1. Build a container image using a Dockerfile.\n",
    "2. Create a running container using an image. And\n",
    "3. Describe key Docker commands.\n",
    "\n",
    "<img src=\"img.png\">\n",
    "\n",
    "## Docker container creation process\n",
    "\n",
    "\n",
    "<img src=\"img_1.png\">\n",
    "\n",
    "\n",
    "This diagram shows the development process of a running container. The steps to create and run containers are:\n",
    "1. Create a Dockerfile.\n",
    "2. Use the Dockerfile to create a container image. And\n",
    "3. Use the container image to create a running container.\n",
    "\n",
    "-> Use a Dockerfile to create a running container."
   ],
   "metadata": {
    "collapsed": false,
    "pycharm": {
     "name": "#%% md\n"
    }
   }
  },
  {
   "cell_type": "markdown",
   "source": [
    "## Dockerfile example\n",
    "\n",
    "<img src=\"img_2.png\">\n",
    "\n",
    "Use a Dockerfile to create a running container. This sample Dockerfile has the commands FROM and CMD. FROM defines the base image. And CMD prints the words ”Hello World!” on the terminal."
   ],
   "metadata": {
    "collapsed": false,
    "pycharm": {
     "name": "#%% md\n"
    }
   }
  },
  {
   "cell_type": "markdown",
   "source": [
    "## Docker build command\n",
    "\n",
    "<img src=\"img_3.png\">\n",
    "\n",
    "This Docker command uses\n",
    "1. the build command,\n",
    "2. the tag,\n",
    "3. the repository,\n",
    "4. the version, and\n",
    "5. the current directory.\n",
    "\n",
    "After you run this build command, the output messages include:\n",
    "1. Sending build context to Docker daemon\n",
    "2. “Successfully built &lt;\n",
    "3. image id&gt;”,\n",
    "\n",
    "which confirms the tag."
   ],
   "metadata": {
    "collapsed": false,
    "pycharm": {
     "name": "#%% md\n"
    }
   }
  },
  {
   "cell_type": "markdown",
   "source": [
    "## Docker Image Verification\n",
    "\n",
    "<img src=\"img_4.png\">\n",
    "\n",
    "To verify the creation of the image, run the “docker images” command. The output displays the repository (my-app), as well as the tag (v1), image ID, creation date, and the image size. Create the container using the run command with the container image name and tag."
   ],
   "metadata": {
    "collapsed": false,
    "pycharm": {
     "name": "#%% md\n"
    }
   }
  },
  {
   "cell_type": "markdown",
   "source": [
    "## Docker run Command\n",
    "\n",
    "<img src=\"img_5.png\">\n",
    "\n",
    "Create the container using the run command with the container image name and tag. The application prints the words “Hello, world!!”.\n",
    "\n",
    "Execute the docker ps -a command, which displays the details of the container created. Given the appropriate input, the build command is used to create container images with tags from a Dockerfile."
   ],
   "metadata": {
    "collapsed": false,
    "pycharm": {
     "name": "#%% md\n"
    }
   }
  },
  {
   "cell_type": "markdown",
   "source": [
    "## Docker Commands\n",
    "\n",
    "<img src=\"img_6.png\">\n",
    "\n",
    " Given the appropriate input,\n",
    " 1. The build command is used to create container images with tags from a Dockerfile.\n",
    " 2. The images command will list all the images, their repositories and tags, and their sizes.\n",
    " 3. The run command creates and runs a container from an image.\n",
    " 4. The push command stores images in a configured registry and\n",
    " 5. The pull command retrieves images from a configured registry."
   ],
   "metadata": {
    "collapsed": false,
    "pycharm": {
     "name": "#%% md\n"
    }
   }
  },
  {
   "cell_type": "markdown",
   "source": [
    "## Summary\n",
    "\n",
    "<img src=\"img_7.png\">\n",
    "\n",
    "1. The build command is used with a Dockerfile to build a container image,\n",
    "2. The run command is used with an image to create a running container, and\n",
    "3. Key Dockerfile commands include build, images, run, pull, and push."
   ],
   "metadata": {
    "collapsed": false,
    "pycharm": {
     "name": "#%% md\n"
    }
   }
  },
  {
   "cell_type": "code",
   "execution_count": null,
   "outputs": [],
   "source": [],
   "metadata": {
    "collapsed": false,
    "pycharm": {
     "name": "#%%\n"
    }
   }
  }
 ],
 "metadata": {
  "kernelspec": {
   "display_name": "Python 3",
   "language": "python",
   "name": "python3"
  },
  "language_info": {
   "codemirror_mode": {
    "name": "ipython",
    "version": 2
   },
   "file_extension": ".py",
   "mimetype": "text/x-python",
   "name": "python",
   "nbconvert_exporter": "python",
   "pygments_lexer": "ipython2",
   "version": "2.7.6"
  }
 },
 "nbformat": 4,
 "nbformat_minor": 0
}