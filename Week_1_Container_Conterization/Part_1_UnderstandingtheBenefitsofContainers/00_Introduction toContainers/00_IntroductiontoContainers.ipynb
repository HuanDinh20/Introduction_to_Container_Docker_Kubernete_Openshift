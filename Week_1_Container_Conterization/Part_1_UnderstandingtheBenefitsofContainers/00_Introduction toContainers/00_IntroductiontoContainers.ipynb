{
 "cells": [
  {
   "cell_type": "markdown",
   "source": [
    "# Introduction to Containers\n",
    "Outline:\n",
    "1. Identify the traditional computing issues for software development\n",
    "2. Define a container and describe its characteristics\n",
    "3. list container benefits and challenges, and popular container vendors.\n",
    "\n",
    "<img src=\"img.png\" width=1000>"
   ],
   "metadata": {
    "collapsed": false,
    "pycharm": {
     "name": "#%% md\n"
    }
   }
  },
  {
   "cell_type": "markdown",
   "source": [
    "# Introduction to Containers\n",
    "Cloud-native is the newest application development approach for building scalable, dynamic, hybrid cloud-friendly software.\n",
    "\n",
    "Container technology is a powerful part of that approach.\n",
    "\n",
    " The modern shipping industry standardized a set of container sizes, so no matter what item is shipped, the container size remains the same. Standardization significantly improves shipping efficiency. Logistics staff select container transport options such as ships, planes, trains, and trucks, based on the container’s size and the client’s delivery needs. *Digital container technology is similar*.\n",
    "<img src=\"img_1.png\" width=1000>\n",
    "Containers solve the problem of making software portable so that applications can run on multiple platforms. A container, powered by the containerization engine, is a standard unit of software that encapsulates the application code, runtime, system tools, system libraries, and settings necessary for programmers to build, ship, and run applications efficiently. Operations and underlying infrastructure issues are no longer blockers. You can quickly move applications from your laptop to a testing environment, from a staging environment to a production environment, from a physical machine to a virtual machine, or a private cloud or public cloud, and always know that your application will work correctly. A container can be small, just tens of megabytes, and developers can almost instantly start containerized applications."
   ],
   "metadata": {
    "collapsed": false,
    "pycharm": {
     "name": "#%% md\n"
    }
   }
  },
  {
   "cell_type": "markdown",
   "source": [
    "## A Contianers\n",
    " A container, powered by the containerization engine, is a **standard unit of software** that encapsulates the\n",
    " 1. application code,\n",
    " 2. runtime,\n",
    " 3. system tools,\n",
    " 4. system libraries, and\n",
    " 5. settings necessary for programmers to build, ship, and run applications efficiently.\n",
    "\n",
    "Operations and underlying infrastructure issues are no longer blockers.\n",
    "\n",
    "\n",
    "<img src=\"img_2.png\">\n",
    "\n",
    "You can quickly move applications from your laptop to a testing environment, from a staging environment to a production environment, from a physical machine to a virtual machine, or a private cloud or public cloud, and always know that your application will work correctly.\n",
    "\n",
    "1. A container can be small, just tens of megabytes, and\n",
    "2. Developers can almost instantly start containerized applications. With these capabilities,\n",
    "3. containers serve as the foundation for today’s development and deployment solutions standards."
   ],
   "metadata": {
    "collapsed": false,
    "pycharm": {
     "name": "#%% md\n"
    }
   }
  },
  {
   "cell_type": "markdown",
   "source": [
    "## Why use Container?\n",
    "\n",
    "<img src=\"img_3.png\" width=1000>\n",
    "\n",
    "Let’s examine some of the development and deployment challenges organizations encounter with traditional computing environments.\n",
    " 1. In traditional environments, developers can’t isolate the app and allocate or designate specific storage and memory resources for\n",
    "apps on physical servers.\n",
    " 2. Servers are often underutilized or overutilized, leading to poor utilization and a poor return on investment.\n",
    " 3. Traditional deployments require comprehensive provisioning resources and expensive maintenance costs. The limits of physical servers can constrain application performance during peak workloads.\n",
    " 4. Applications are not portable across multiple environments and operating systems.\n",
    " 5. Implementing hardware for resiliency is often time-consuming, complex and expensive.\n",
    " 6. Traditional on premises IT environments have limited scalability. Finally,\n",
    " 7. Automation is challenging when distributing software to multiple platforms and resources using traditional environments.\n",
    "->> **Containers enable organizations to overcome these challenges.**"
   ],
   "metadata": {
    "collapsed": false,
    "pycharm": {
     "name": "#%% md\n"
    }
   }
  },
  {
   "cell_type": "markdown",
   "source": [
    "## Containers Characteristics\n",
    "\n",
    "1. Container engines virtualize the operating system and are responsible for running containers.\n",
    "2. Platform-independent containers are **lightweight, fast, isolated, portable, and secure** and often\n",
    "3. Require less memory space.\n",
    "4. Binaries, libraries, and other entities within the container enable apps to run, and\n",
    "5. One machine can host multiple containers.\n",
    "<img src=\"img_4.png\">"
   ],
   "metadata": {
    "collapsed": false,
    "pycharm": {
     "name": "#%% md\n"
    }
   }
  },
  {
   "cell_type": "markdown",
   "source": [
    "## Container offer easy portability\n",
    "<img src = \"img_5.png\">\n",
    "\n",
    "\n",
    "Containers help programmers quickly deploy code into applications Containers are\n",
    "1. platform-independent and can run on the cloud, desktop, and on-premises Containers being\n",
    "2. operating system-independent, run on Windows, Linux, or Mac OS. Containers are also\n",
    "3. programming language and IDE independent—whether you are running Python, Node, Java, or other languages."
   ],
   "metadata": {
    "collapsed": false,
    "pycharm": {
     "name": "#%% md\n"
    }
   }
  },
  {
   "cell_type": "markdown",
   "source": [
    "## Container Benefits\n",
    "<img src = \"img_6.png\">\n",
    "\n",
    "Containers enable organizations to:\n",
    "1. Quickly create applications using automation.\n",
    "2. Lower deployment time and costs.\n",
    "3. Improve resource utilization, including CPU and memory.\n",
    "4. Port across different environments, and support next-gen applications, including microservices."
   ],
   "metadata": {
    "collapsed": false,
    "pycharm": {
     "name": "#%% md\n"
    }
   }
  },
  {
   "cell_type": "markdown",
   "source": [
    "## Container Challenges\n",
    "\n",
    "<img src = \"img_7.png\">\n",
    "\n",
    "Using containerization is not without its challenges.\n",
    "1. Server security can become an issue if its operating system is affected.\n",
    "2. Developers can become overwhelmed when managing thousands of containers.\n",
    "3. Converting monolithic legacy applications can be a complex process, and\n",
    "4. Developers can experience difficulty right-sizing containers for specific scenarios."
   ],
   "metadata": {
    "collapsed": false,
    "pycharm": {
     "name": "#%% md\n"
    }
   }
  },
  {
   "cell_type": "markdown",
   "source": [
    "## Container Vendors\n",
    "\n",
    "1. Docker is a robust platform and the most popular container platform today.\n",
    "2. Podman is a daemon-less container engine that is more secure than Docker. Developers often prefer\n",
    "3. LXC for data-intensive applications and operations. And,\n",
    "4. Vagrant offers the highest levels of isolation on the running physical machine.\n",
    "\n",
    "<img src=\"img_8.png\">"
   ],
   "metadata": {
    "collapsed": false,
    "pycharm": {
     "name": "#%% md\n"
    }
   }
  },
  {
   "cell_type": "markdown",
   "source": [
    "# Summary\n",
    "1. Organizations are moving to containers to overcome challenges around isolation, utilization, provisioning, performance, and more.\n",
    "2. A container is a standard unit of software that encapsulates everything needed to build, ship, and run applications.\n",
    "3. Containers are operating system, programming language, and platform-independent.\n",
    "4. They lower deployment time and costs, improve utilization, automate processes, and support next-gen applications (microservices).\n",
    "5. Developers may find that management, legacy project migration, and right-sizing are significant challenges. And finally,\n",
    "6. Major container vendors include Docker, Podman, LXC, and Vagrant.\n",
    "\n",
    "<img src=\"img_9.png\">"
   ],
   "metadata": {
    "collapsed": false,
    "pycharm": {
     "name": "#%% md\n"
    }
   }
  },
  {
   "cell_type": "code",
   "execution_count": null,
   "outputs": [],
   "source": [],
   "metadata": {
    "collapsed": false,
    "pycharm": {
     "name": "#%%\n"
    }
   }
  }
 ],
 "metadata": {
  "kernelspec": {
   "display_name": "Python 3",
   "language": "python",
   "name": "python3"
  },
  "language_info": {
   "codemirror_mode": {
    "name": "ipython",
    "version": 2
   },
   "file_extension": ".py",
   "mimetype": "text/x-python",
   "name": "python",
   "nbconvert_exporter": "python",
   "pygments_lexer": "ipython2",
   "version": "2.7.6"
  }
 },
 "nbformat": 4,
 "nbformat_minor": 0
}