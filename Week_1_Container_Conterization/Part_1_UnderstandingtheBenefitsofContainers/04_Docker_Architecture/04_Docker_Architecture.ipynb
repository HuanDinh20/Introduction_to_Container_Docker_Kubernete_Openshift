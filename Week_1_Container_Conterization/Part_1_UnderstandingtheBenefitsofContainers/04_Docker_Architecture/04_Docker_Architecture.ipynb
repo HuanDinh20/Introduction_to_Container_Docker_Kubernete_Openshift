{
 "cells": [
  {
   "cell_type": "markdown",
   "source": [
    "# Docker Architecture\n",
    "## Objectives\n",
    "\n",
    "<img src=\"img.png\">\n",
    "\n",
    "1. Identify the components of the Docker architecture,\n",
    "2. Explain the features of the Docker architecture components, and\n",
    "3. Describe the process of containerization using Docker.\n",
    "\n",
    "## Docker Architecture\n",
    "\n",
    "<img src=\"img_1.png\">\n",
    "\n",
    "The Docker\n",
    "1. client-server architecture provides a\n",
    "2. complete application environment.\n",
    "3. Docker components include the client, the host, and the registry\n",
    "\n",
    "\n",
    "## Docker Process Overview\n",
    "\n",
    "<img src=\"img_2.png\">\n",
    "\n",
    "Let’s take a high-level view of how Docker works. First,\n",
    "1. you’ll use either the Docker command line interface or REST APIs via the Docker client to send instructions to the Docker host server, commonly called the host.\n",
    "2. The Docker host contains the daemon, known as dockerd.\n",
    "3. The daemon listens for Docker API requests or commands such as “docker run” and processes those commands. The daemon does the heavy lifting to build, run, and distribute Docker containers. Then,\n",
    "4. Docker stores the container images in a registry.\n",
    "\n",
    "## Docker Host\n",
    "\n",
    "<img src=\"img_3.png\">\n",
    "\n",
    "The Docker host also includes and manages:\n",
    "1. Images\n",
    "2. Containers\n",
    "3. Namespaces\n",
    "4. Networks\n",
    "5. Storage\n",
    "6. Plugins and add-ons."
   ],
   "metadata": {
    "collapsed": false,
    "pycharm": {
     "name": "#%% md\n"
    }
   }
  },
  {
   "cell_type": "markdown",
   "source": [
    "## Docker Communications\n",
    "\n",
    "<img src=\"img_4.png\">\n",
    "\n",
    "You can use the\n",
    "1. Docker client to communicate with local and remote Docker hosts. You can run the\n",
    "2. Docker client and daemon on the same system or connect your Docker client to a remote Docker daemon. And\n",
    "3. Docker daemons can also communicate with other daemons to manage Docker services."
   ],
   "metadata": {
    "collapsed": false,
    "pycharm": {
     "name": "#%% md\n"
    }
   }
  },
  {
   "cell_type": "markdown",
   "source": [
    "## Registry\n",
    "\n",
    "<img src=\"img_5.png\">\n",
    "\n",
    "1. Docker stores and distributes images in a registry.\n",
    "2. Registry access is either **public**, such as Docker Hub, which is accessible by everyone, or **private**.\n",
    "3. Enterprises usually opt to use a private registry for security reasons. And\n",
    "4. registry locations are hosted using a third-party provider, such as IBM Cloud Container Registry, or self-hosted in private data centers or on the cloud.\n",
    "\n",
    "## Registry Access\n",
    "\n",
    "<img src=\"img_6.png\">\n",
    "\n",
    "Moving images into the registry.\n",
    "\n",
    "1. First, developers build and push the images using automation or a build pipeline into a registry, where Docker stores these images.\n",
    "2. Then, local machines, cloud systems, and on-premises systems can pull those images."
   ],
   "metadata": {
    "collapsed": false,
    "pycharm": {
     "name": "#%% md\n"
    }
   }
  },
  {
   "cell_type": "markdown",
   "source": [
    "## Docker Architecture\n",
    "\n",
    "<img src=\"img_7.png\">\n",
    "\n",
    "Docker architecture, which consists of\n",
    "1. The client;\n",
    "2. The Docker host, including the Docker daemon; and\n",
    "3. The registry with its existing stored images.\n",
    "\n",
    "Let’s check out the containerization process. Here’s how you use Docker to create a container image:"
   ],
   "metadata": {
    "collapsed": false,
    "pycharm": {
     "name": "#%% md\n"
    }
   }
  },
  {
   "cell_type": "markdown",
   "source": [
    "<img src=\"img_8.png\" width=1000>\n",
    "\n",
    "\n",
    "1. First, use an existing base image or a Dockerfile\n",
    "2. Then, issue the build command that creates a container image with a name"
   ],
   "metadata": {
    "collapsed": false,
    "pycharm": {
     "name": "#%% md\n"
    }
   }
  },
  {
   "cell_type": "markdown",
   "source": [
    "1. Next, issue the push command to store the image to the registry.\n",
    "\n",
    "\n",
    "<img src=\"img_9.png\">\n",
    "\n",
    "\n",
    "\n",
    "2. The host first checks locally if the image is already available and .\n",
    "\n",
    "<img src=\"img_10.png\">\n",
    "\n",
    "\n",
    "3. then issues the run command with the image name to create the container\n",
    "\n",
    "<img src=\"img_11.png\">\n",
    "\n",
    "\n",
    "4. If the image is unavailable within the host, the Docker client connects to the registry and pulls the image to the host. The daemon then creates a running container using the image.\n",
    "\n",
    "<img src=\"img_12.png\">\n",
    "\n",
    "\n",
    "## Recap\n",
    "1. Docker architecture consists of a Docker client, a Docker host, and a registry.\n",
    "2. The client interacts with the host using commands and REST APIs.\n",
    "3. The Docker host includes the daemon, commonly called dockerd.\n",
    "4. The Docker host also manages images, containers, namespaces, networks, storage, plugins, and add-ons, and\n",
    "5. Containerization is the process used to build, push, and run an image to create a running container.\n"
   ],
   "metadata": {
    "collapsed": false,
    "pycharm": {
     "name": "#%% md\n"
    }
   }
  },
  {
   "cell_type": "code",
   "execution_count": null,
   "outputs": [],
   "source": [],
   "metadata": {
    "collapsed": false,
    "pycharm": {
     "name": "#%%\n"
    }
   }
  }
 ],
 "metadata": {
  "kernelspec": {
   "display_name": "Python 3",
   "language": "python",
   "name": "python3"
  },
  "language_info": {
   "codemirror_mode": {
    "name": "ipython",
    "version": 2
   },
   "file_extension": ".py",
   "mimetype": "text/x-python",
   "name": "python",
   "nbconvert_exporter": "python",
   "pygments_lexer": "ipython2",
   "version": "2.7.6"
  }
 },
 "nbformat": 4,
 "nbformat_minor": 0
}